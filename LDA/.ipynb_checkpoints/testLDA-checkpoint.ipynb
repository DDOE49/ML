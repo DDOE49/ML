{
 "cells": [
  {
   "cell_type": "code",
   "execution_count": 12,
   "metadata": {},
   "outputs": [],
   "source": [
    "from gensim import corpora\n",
    "import gensim"
   ]
  },
  {
   "cell_type": "code",
   "execution_count": 6,
   "metadata": {},
   "outputs": [
    {
     "name": "stdout",
     "output_type": "stream",
     "text": [
      "[(0, 1), (1, 1), (2, 1), (3, 1), (4, 1), (5, 1), (6, 1), (7, 1), (8, 1)]\n"
     ]
    }
   ],
   "source": [
    "tokenized_doc = [[\"형태소\", \"사과\", \"바나나\", \"과일\", \"문자\", \"언어\", \"모자\", \"바지\", \"드레스\"]]\n",
    "dictionary = corpora.Dictionary(tokenized_doc)\n",
    "corpus = [dictionary.doc2bow(text) for text in tokenized_doc]\n",
    "print(corpus[0])"
   ]
  },
  {
   "cell_type": "code",
   "execution_count": 10,
   "metadata": {},
   "outputs": [
    {
     "name": "stdout",
     "output_type": "stream",
     "text": [
      "사과\n"
     ]
    }
   ],
   "source": [
    "print(dictionary[6])"
   ]
  },
  {
   "cell_type": "code",
   "execution_count": 13,
   "metadata": {},
   "outputs": [
    {
     "name": "stdout",
     "output_type": "stream",
     "text": [
      "(0, '0.111*\"바나나\" + 0.111*\"사과\" + 0.111*\"언어\" + 0.111*\"문자\" + 0.111*\"드레스\" + 0.111*\"모자\" + 0.111*\"과일\" + 0.111*\"바지\" + 0.111*\"형태소\"')\n",
      "(1, '0.111*\"형태소\" + 0.111*\"과일\" + 0.111*\"모자\" + 0.111*\"드레스\" + 0.111*\"문자\" + 0.111*\"바지\" + 0.111*\"언어\" + 0.111*\"사과\" + 0.111*\"바나나\"')\n",
      "(2, '0.111*\"바지\" + 0.111*\"형태소\" + 0.111*\"문자\" + 0.111*\"드레스\" + 0.111*\"모자\" + 0.111*\"언어\" + 0.111*\"과일\" + 0.111*\"사과\" + 0.111*\"바나나\"')\n"
     ]
    }
   ],
   "source": [
    "NUM_TOPICS = 3\n",
    "ldamodel = gensim.models.ldamodel.LdaModel(corpus, num_topics = NUM_TOPICS, id2word=dictionary, passes=15)\n",
    "topics = ldamodel.print_topics()\n",
    "for topic in topics:\n",
    "    print(topic)"
   ]
  },
  {
   "cell_type": "code",
   "execution_count": null,
   "metadata": {},
   "outputs": [],
   "source": []
  },
  {
   "cell_type": "code",
   "execution_count": null,
   "metadata": {},
   "outputs": [],
   "source": []
  }
 ],
 "metadata": {
  "kernelspec": {
   "display_name": "Python 3",
   "language": "python",
   "name": "python3"
  },
  "language_info": {
   "codemirror_mode": {
    "name": "ipython",
    "version": 3
   },
   "file_extension": ".py",
   "mimetype": "text/x-python",
   "name": "python",
   "nbconvert_exporter": "python",
   "pygments_lexer": "ipython3",
   "version": "3.8.5"
  }
 },
 "nbformat": 4,
 "nbformat_minor": 4
}
