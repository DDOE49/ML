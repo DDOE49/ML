{
 "cells": [
  {
   "cell_type": "code",
   "execution_count": 13,
   "metadata": {},
   "outputs": [
    {
     "name": "stderr",
     "output_type": "stream",
     "text": [
      "C:\\Users\\DOEON\\anaconda3\\lib\\site-packages\\ipykernel\\ipkernel.py:287: DeprecationWarning: `should_run_async` will not call `transform_cell` automatically in the future. Please pass the result to `transformed_cell` argument and any exception that happen during thetransform in `preprocessing_exc_tuple` in IPython 7.17 and above.\n",
      "  and should_run_async(code)\n"
     ]
    }
   ],
   "source": [
    "from gensim import corpora\n",
    "import gensim\n",
    "import pyLDAvis.gensim_models"
   ]
  },
  {
   "cell_type": "code",
   "execution_count": 14,
   "metadata": {},
   "outputs": [
    {
     "name": "stdout",
     "output_type": "stream",
     "text": [
      "[(0, 2), (1, 1), (2, 1), (3, 1), (4, 1), (5, 1), (6, 1), (7, 1), (8, 1)]\n"
     ]
    },
    {
     "name": "stderr",
     "output_type": "stream",
     "text": [
      "C:\\Users\\DOEON\\anaconda3\\lib\\site-packages\\ipykernel\\ipkernel.py:287: DeprecationWarning: `should_run_async` will not call `transform_cell` automatically in the future. Please pass the result to `transformed_cell` argument and any exception that happen during thetransform in `preprocessing_exc_tuple` in IPython 7.17 and above.\n",
      "  and should_run_async(code)\n"
     ]
    }
   ],
   "source": [
    "tokenized_doc = [[\"형태소\", \"사과\", \"바나나\", \"과일\", \"문자\", \"언어\", \"모자\", \"바지\", \"드레스\", \"과일\"]]\n",
    "dictionary = corpora.Dictionary(tokenized_doc)\n",
    "corpus = [dictionary.doc2bow(text) for text in tokenized_doc]\n",
    "print(corpus[0])"
   ]
  },
  {
   "cell_type": "code",
   "execution_count": 15,
   "metadata": {},
   "outputs": [
    {
     "name": "stdout",
     "output_type": "stream",
     "text": [
      "사과\n",
      "Dictionary(9 unique tokens: ['과일', '드레스', '모자', '문자', '바나나']...)\n",
      "[[(0, 2), (1, 1), (2, 1), (3, 1), (4, 1), (5, 1), (6, 1), (7, 1), (8, 1)]]\n"
     ]
    },
    {
     "name": "stderr",
     "output_type": "stream",
     "text": [
      "C:\\Users\\DOEON\\anaconda3\\lib\\site-packages\\ipykernel\\ipkernel.py:287: DeprecationWarning: `should_run_async` will not call `transform_cell` automatically in the future. Please pass the result to `transformed_cell` argument and any exception that happen during thetransform in `preprocessing_exc_tuple` in IPython 7.17 and above.\n",
      "  and should_run_async(code)\n"
     ]
    }
   ],
   "source": [
    "print(dictionary[6])\n",
    "print(dictionary)\n",
    "print(corpus)"
   ]
  },
  {
   "cell_type": "code",
   "execution_count": 16,
   "metadata": {},
   "outputs": [
    {
     "name": "stdout",
     "output_type": "stream",
     "text": [
      "(0, '0.111*\"과일\" + 0.111*\"언어\" + 0.111*\"드레스\" + 0.111*\"사과\" + 0.111*\"형태소\" + 0.111*\"바나나\" + 0.111*\"바지\" + 0.111*\"모자\" + 0.111*\"문자\"')\n",
      "(1, '0.180*\"과일\" + 0.103*\"문자\" + 0.103*\"모자\" + 0.103*\"바지\" + 0.103*\"바나나\" + 0.103*\"형태소\" + 0.103*\"드레스\" + 0.103*\"사과\" + 0.103*\"언어\"')\n",
      "(2, '0.111*\"언어\" + 0.111*\"형태소\" + 0.111*\"문자\" + 0.111*\"바나나\" + 0.111*\"사과\" + 0.111*\"모자\" + 0.111*\"드레스\" + 0.111*\"바지\" + 0.111*\"과일\"')\n"
     ]
    },
    {
     "name": "stderr",
     "output_type": "stream",
     "text": [
      "C:\\Users\\DOEON\\anaconda3\\lib\\site-packages\\ipykernel\\ipkernel.py:287: DeprecationWarning: `should_run_async` will not call `transform_cell` automatically in the future. Please pass the result to `transformed_cell` argument and any exception that happen during thetransform in `preprocessing_exc_tuple` in IPython 7.17 and above.\n",
      "  and should_run_async(code)\n"
     ]
    }
   ],
   "source": [
    "NUM_TOPICS = 3\n",
    "ldamodel = gensim.models.ldamodel.LdaModel(corpus, num_topics = NUM_TOPICS, id2word=dictionary, passes=15)\n",
    "topics = ldamodel.print_topics()\n",
    "for topic in topics:\n",
    "    print(topic)"
   ]
  },
  {
   "cell_type": "code",
   "execution_count": 18,
   "metadata": {},
   "outputs": [
    {
     "name": "stderr",
     "output_type": "stream",
     "text": [
      "C:\\Users\\DOEON\\anaconda3\\lib\\site-packages\\ipykernel\\ipkernel.py:287: DeprecationWarning: `should_run_async` will not call `transform_cell` automatically in the future. Please pass the result to `transformed_cell` argument and any exception that happen during thetransform in `preprocessing_exc_tuple` in IPython 7.17 and above.\n",
      "  and should_run_async(code)\n",
      "C:\\Users\\DOEON\\anaconda3\\lib\\site-packages\\pyLDAvis\\_prepare.py:246: FutureWarning: In a future version of pandas all arguments of DataFrame.drop except for the argument 'labels' will be keyword-only\n",
      "  default_term_info = default_term_info.sort_values(\n"
     ]
    },
    {
     "data": {
      "text/html": [
       "\n",
       "<link rel=\"stylesheet\" type=\"text/css\" href=\"https://cdn.jsdelivr.net/gh/bmabey/pyLDAvis@3.3.1/pyLDAvis/js/ldavis.v1.0.0.css\">\n",
       "\n",
       "\n",
       "<div id=\"ldavis_el760817178880082563350849017\"></div>\n",
       "<script type=\"text/javascript\">\n",
       "\n",
       "var ldavis_el760817178880082563350849017_data = {\"mdsDat\": {\"x\": [0.0031698278167103934, -0.001577413227547854, -0.0015924145891625392], \"y\": [-0.0, -0.0, -0.0], \"topics\": [1, 2, 3], \"cluster\": [1, 1, 1], \"Freq\": [93.73829504457557, 3.1310078223199818, 3.1306971331044604]}, \"tinfo\": {\"Term\": [\"\\uacfc\\uc77c\", \"\\uc5b8\\uc5b4\", \"\\uc0ac\\uacfc\", \"\\ub4dc\\ub808\\uc2a4\", \"\\ud615\\ud0dc\\uc18c\", \"\\ubc14\\ub098\\ub098\", \"\\ubc14\\uc9c0\", \"\\ubaa8\\uc790\", \"\\ubb38\\uc790\", \"\\uacfc\\uc77c\", \"\\ubb38\\uc790\", \"\\ubaa8\\uc790\", \"\\ubc14\\uc9c0\", \"\\ubc14\\ub098\\ub098\", \"\\ud615\\ud0dc\\uc18c\", \"\\ub4dc\\ub808\\uc2a4\", \"\\uc0ac\\uacfc\", \"\\uc5b8\\uc5b4\", \"\\uc5b8\\uc5b4\", \"\\ub4dc\\ub808\\uc2a4\", \"\\uc0ac\\uacfc\", \"\\ud615\\ud0dc\\uc18c\", \"\\ubc14\\ub098\\ub098\", \"\\ubc14\\uc9c0\", \"\\ubaa8\\uc790\", \"\\ubb38\\uc790\", \"\\uacfc\\uc77c\", \"\\uc5b8\\uc5b4\", \"\\ud615\\ud0dc\\uc18c\", \"\\uc0ac\\uacfc\", \"\\ub4dc\\ub808\\uc2a4\", \"\\ubc14\\ub098\\ub098\", \"\\ubb38\\uc790\", \"\\ubc14\\uc9c0\", \"\\ubaa8\\uc790\", \"\\uacfc\\uc77c\"], \"Freq\": [1.0, 1.0, 1.0, 1.0, 1.0, 1.0, 1.0, 1.0, 1.0, 1.6836304104213085, 0.9613208417845698, 0.9613196544965597, 0.9612963976196554, 0.9612791470232729, 0.9612535854108195, 0.961249604503962, 0.9612493251420773, 0.9612297698101457, 0.034791914850405836, 0.034789715036434576, 0.03478957506947988, 0.03478862795975313, 0.034785135784233534, 0.03478327888930127, 0.034779602423958, 0.034779021561096024, 0.03481389432785781, 0.034786629071208164, 0.03478650311344894, 0.034786167226091014, 0.03478598528710547, 0.0347863188419123, 0.03478645646242701, 0.03478570304842277, 0.034786031938127404, 0.03477991832170291], \"Total\": [1.0, 1.0, 1.0, 1.0, 1.0, 1.0, 1.0, 1.0, 1.0, 1.7532242230708692, 1.0308863198080929, 1.030885288858645, 1.0308653795573792, 1.0308506016494188, 1.0308287164840215, 1.030825304827502, 1.0308250674376482, 1.0308083137317599, 1.0308083137317599, 1.030825304827502, 1.0308250674376482, 1.0308287164840215, 1.0308506016494188, 1.0308653795573792, 1.030885288858645, 1.0308863198080929, 1.7532242230708692, 1.0308083137317599, 1.0308287164840215, 1.0308250674376482, 1.030825304827502, 1.0308506016494188, 1.0308863198080929, 1.0308653795573792, 1.030885288858645, 1.7532242230708692], \"Category\": [\"Default\", \"Default\", \"Default\", \"Default\", \"Default\", \"Default\", \"Default\", \"Default\", \"Default\", \"Topic1\", \"Topic1\", \"Topic1\", \"Topic1\", \"Topic1\", \"Topic1\", \"Topic1\", \"Topic1\", \"Topic1\", \"Topic2\", \"Topic2\", \"Topic2\", \"Topic2\", \"Topic2\", \"Topic2\", \"Topic2\", \"Topic2\", \"Topic2\", \"Topic3\", \"Topic3\", \"Topic3\", \"Topic3\", \"Topic3\", \"Topic3\", \"Topic3\", \"Topic3\", \"Topic3\"], \"logprob\": [9.0, 8.0, 7.0, 6.0, 5.0, 4.0, 3.0, 2.0, 1.0, -1.717, -2.2774, -2.2774, -2.2774, -2.2774, -2.2774, -2.2774, -2.2774, -2.2775, -2.1971, -2.1972, -2.1972, -2.1972, -2.1973, -2.1974, -2.1975, -2.1975, -2.1965, -2.1972, -2.1972, -2.1972, -2.1972, -2.1972, -2.1972, -2.1972, -2.1972, -2.1974], \"loglift\": [9.0, 8.0, 7.0, 6.0, 5.0, 4.0, 3.0, 2.0, 1.0, 0.0242, -0.0052, -0.0052, -0.0052, -0.0052, -0.0052, -0.0052, -0.0052, -0.0052, 0.0751, 0.075, 0.075, 0.075, 0.0749, 0.0748, 0.0747, 0.0747, -0.4554, 0.075, 0.075, 0.075, 0.075, 0.075, 0.075, 0.075, 0.075, -0.4563]}, \"token.table\": {\"Topic\": [1, 1, 1, 1, 1, 1, 1, 1, 1], \"Freq\": [1.1407554000690736, 0.9700964802831841, 0.9700400333650702, 0.9700390632656348, 0.9700726743525627, 0.9700587679347309, 0.9700967036877838, 0.9701124706491484, 0.9700932696275935], \"Term\": [\"\\uacfc\\uc77c\", \"\\ub4dc\\ub808\\uc2a4\", \"\\ubaa8\\uc790\", \"\\ubb38\\uc790\", \"\\ubc14\\ub098\\ub098\", \"\\ubc14\\uc9c0\", \"\\uc0ac\\uacfc\", \"\\uc5b8\\uc5b4\", \"\\ud615\\ud0dc\\uc18c\"]}, \"R\": 9, \"lambda.step\": 0.01, \"plot.opts\": {\"xlab\": \"PC1\", \"ylab\": \"PC2\"}, \"topic.order\": [2, 1, 3]};\n",
       "\n",
       "function LDAvis_load_lib(url, callback){\n",
       "  var s = document.createElement('script');\n",
       "  s.src = url;\n",
       "  s.async = true;\n",
       "  s.onreadystatechange = s.onload = callback;\n",
       "  s.onerror = function(){console.warn(\"failed to load library \" + url);};\n",
       "  document.getElementsByTagName(\"head\")[0].appendChild(s);\n",
       "}\n",
       "\n",
       "if(typeof(LDAvis) !== \"undefined\"){\n",
       "   // already loaded: just create the visualization\n",
       "   !function(LDAvis){\n",
       "       new LDAvis(\"#\" + \"ldavis_el760817178880082563350849017\", ldavis_el760817178880082563350849017_data);\n",
       "   }(LDAvis);\n",
       "}else if(typeof define === \"function\" && define.amd){\n",
       "   // require.js is available: use it to load d3/LDAvis\n",
       "   require.config({paths: {d3: \"https://d3js.org/d3.v5\"}});\n",
       "   require([\"d3\"], function(d3){\n",
       "      window.d3 = d3;\n",
       "      LDAvis_load_lib(\"https://cdn.jsdelivr.net/gh/bmabey/pyLDAvis@3.3.1/pyLDAvis/js/ldavis.v3.0.0.js\", function(){\n",
       "        new LDAvis(\"#\" + \"ldavis_el760817178880082563350849017\", ldavis_el760817178880082563350849017_data);\n",
       "      });\n",
       "    });\n",
       "}else{\n",
       "    // require.js not available: dynamically load d3 & LDAvis\n",
       "    LDAvis_load_lib(\"https://d3js.org/d3.v5.js\", function(){\n",
       "         LDAvis_load_lib(\"https://cdn.jsdelivr.net/gh/bmabey/pyLDAvis@3.3.1/pyLDAvis/js/ldavis.v3.0.0.js\", function(){\n",
       "                 new LDAvis(\"#\" + \"ldavis_el760817178880082563350849017\", ldavis_el760817178880082563350849017_data);\n",
       "            })\n",
       "         });\n",
       "}\n",
       "</script>"
      ],
      "text/plain": [
       "<IPython.core.display.HTML object>"
      ]
     },
     "execution_count": 18,
     "metadata": {},
     "output_type": "execute_result"
    }
   ],
   "source": [
    "import pyLDAvis.gensim_models\n",
    "pyLDAvis.enable_notebook()\n",
    "vis = pyLDAvis.gensim_models.prepare(ldamodel, corpus, dictionary)\n",
    "pyLDAvis.display(vis)"
   ]
  },
  {
   "cell_type": "code",
   "execution_count": null,
   "metadata": {},
   "outputs": [],
   "source": []
  }
 ],
 "metadata": {
  "kernelspec": {
   "display_name": "Python 3",
   "language": "python",
   "name": "python3"
  },
  "language_info": {
   "codemirror_mode": {
    "name": "ipython",
    "version": 3
   },
   "file_extension": ".py",
   "mimetype": "text/x-python",
   "name": "python",
   "nbconvert_exporter": "python",
   "pygments_lexer": "ipython3",
   "version": "3.8.5"
  }
 },
 "nbformat": 4,
 "nbformat_minor": 4
}
