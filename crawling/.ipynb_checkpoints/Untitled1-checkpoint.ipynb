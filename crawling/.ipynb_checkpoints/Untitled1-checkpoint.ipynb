{
 "cells": [
  {
   "cell_type": "code",
   "execution_count": 34,
   "metadata": {},
   "outputs": [
    {
     "name": "stdout",
     "output_type": "stream",
     "text": [
      "5.5\n"
     ]
    }
   ],
   "source": [
    "def abc(LIST):\n",
    "    sumfn = 0\n",
    "    for i in LIST:\n",
    "        sumfn += i\n",
    "    print(sumfn/len(LIST))\n",
    "    \n",
    "abc([3,4,5,6,7,8])"
   ]
  },
  {
   "cell_type": "code",
   "execution_count": 36,
   "metadata": {},
   "outputs": [
    {
     "name": "stdout",
     "output_type": "stream",
     "text": [
      "7\n",
      "소수\n"
     ]
    }
   ],
   "source": [
    "def sosu(num):\n",
    "    ll = []\n",
    "    ls = [num]\n",
    "    chkValues = list(range(2,num+1))\n",
    "    for i in chkValues:\n",
    "        if i/num == 1.0:\n",
    "            ll.append(i)\n",
    "    if float(len(ll)) == 1:\n",
    "        return print(\"소수\")\n",
    "    \n",
    "    print(\"소수아님\")\n",
    "            \n",
    "    \n",
    "sosu(7)"
   ]
  },
  {
   "cell_type": "code",
   "execution_count": 31,
   "metadata": {},
   "outputs": [
    {
     "data": {
      "text/plain": [
       "3.0"
      ]
     },
     "execution_count": 31,
     "metadata": {},
     "output_type": "execute_result"
    }
   ],
   "source": [
    "a = \"3\"\n",
    "int(a)\n",
    "float(a)"
   ]
  }
 ],
 "metadata": {
  "kernelspec": {
   "display_name": "Python 3",
   "language": "python",
   "name": "python3"
  },
  "language_info": {
   "codemirror_mode": {
    "name": "ipython",
    "version": 3
   },
   "file_extension": ".py",
   "mimetype": "text/x-python",
   "name": "python",
   "nbconvert_exporter": "python",
   "pygments_lexer": "ipython3",
   "version": "3.8.5"
  }
 },
 "nbformat": 4,
 "nbformat_minor": 4
}
