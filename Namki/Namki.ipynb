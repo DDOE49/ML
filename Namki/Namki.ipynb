{
 "cells": [
  {
   "cell_type": "markdown",
   "metadata": {},
   "source": [
    "## **전역변수**"
   ]
  },
  {
   "cell_type": "code",
   "execution_count": 146,
   "metadata": {},
   "outputs": [],
   "source": [
    "i = 0\n",
    "summary = 0   # While 전용"
   ]
  },
  {
   "cell_type": "markdown",
   "metadata": {},
   "source": [
    "## **재귀함수**"
   ]
  },
  {
   "cell_type": "code",
   "execution_count": 84,
   "metadata": {},
   "outputs": [],
   "source": [
    "def sigma_even(n):\n",
    "    global i\n",
    "    if i>=n:\n",
    "        i=0\n",
    "        return 0\n",
    "    i+=1\n",
    "    return (i*2)+sigma_even(n)"
   ]
  },
  {
   "cell_type": "code",
   "execution_count": 121,
   "metadata": {},
   "outputs": [
    {
     "name": "stdout",
     "output_type": "stream",
     "text": [
      "6\n"
     ]
    }
   ],
   "source": [
    "# test\n",
    "print(sigma_even(2))"
   ]
  },
  {
   "cell_type": "markdown",
   "metadata": {},
   "source": [
    "## **꼬리재귀함수**"
   ]
  },
  {
   "cell_type": "code",
   "execution_count": 46,
   "metadata": {},
   "outputs": [],
   "source": [
    "def sigma_even_loop(n):\n",
    "    return sigma_even_loop2(n, 0)\n",
    "\n",
    "def sigma_even_loop2(n, res):\n",
    "    global i\n",
    "    if i>=n:\n",
    "        i=0\n",
    "        return res\n",
    "    i+=1\n",
    "    return sigma_even_loop2(n, res+(i*2))"
   ]
  },
  {
   "cell_type": "code",
   "execution_count": 118,
   "metadata": {},
   "outputs": [
    {
     "name": "stdout",
     "output_type": "stream",
     "text": [
      "56\n"
     ]
    }
   ],
   "source": [
    "# test\n",
    "print(sigma_even_loop(7))"
   ]
  },
  {
   "cell_type": "markdown",
   "metadata": {},
   "source": [
    "## **While**"
   ]
  },
  {
   "cell_type": "code",
   "execution_count": 148,
   "metadata": {},
   "outputs": [],
   "source": [
    "def sigma_even_while(n):\n",
    "    global i\n",
    "    global summary\n",
    "    while i < n:\n",
    "        i+=1\n",
    "        summary += i*2\n",
    "        if(i>=n):\n",
    "            i=0\n",
    "            break\n",
    "    return summary"
   ]
  },
  {
   "cell_type": "code",
   "execution_count": 153,
   "metadata": {},
   "outputs": [
    {
     "name": "stdout",
     "output_type": "stream",
     "text": [
      "0\n"
     ]
    }
   ],
   "source": [
    "# test\n",
    "print(sigma_even_while(7))"
   ]
  },
  {
   "cell_type": "code",
   "execution_count": 160,
   "metadata": {},
   "outputs": [
    {
     "name": "stdout",
     "output_type": "stream",
     "text": [
      "even(0) 0 loop(0) 0 while(0) 0\n",
      "even(1) 2 loop(1) 2 while(1) 2\n",
      "even(7) 56 loop(7) 56 while(7) 56\n"
     ]
    }
   ],
   "source": [
    "i = 0\n",
    "summary = 0\n",
    "\n",
    "# 재귀\n",
    "def sigma_even(n):\n",
    "    global i\n",
    "    if i>=n:\n",
    "        i=0\n",
    "        return 0\n",
    "    i+=1\n",
    "    return (i*2)+sigma_even(n)\n",
    "\n",
    "# 꼬리재귀\n",
    "def sigma_even_loop(n):\n",
    "    return sigma_even_loop2(n, 0)\n",
    "\n",
    "def sigma_even_loop2(n, res):\n",
    "    global i\n",
    "    global summary\n",
    "    if i>=n:\n",
    "        i=0\n",
    "        summary=0\n",
    "        return res\n",
    "    i+=1\n",
    "    return sigma_even_loop2(n, res+(i*2))\n",
    "\n",
    "# While\n",
    "def sigma_even_while(n):\n",
    "    global i\n",
    "    global summary\n",
    "    while i < n:\n",
    "        i+=1\n",
    "        summary += i*2\n",
    "        if(i>=n):\n",
    "            i=0\n",
    "            break\n",
    "    return summary\n",
    "\n",
    "print(\"even(0)\",sigma_even(0),\"loop(0)\",sigma_even_loop(0),\"while(0)\",sigma_even_while(0))\n",
    "print(\"even(1)\",sigma_even(1),\"loop(1)\",sigma_even_loop(1),\"while(1)\",sigma_even_while(1))\n",
    "print(\"even(7)\",sigma_even(7),\"loop(7)\",sigma_even_loop(7),\"while(7)\",sigma_even_while(7))"
   ]
  }
 ],
 "metadata": {
  "kernelspec": {
   "display_name": "Python 3",
   "language": "python",
   "name": "python3"
  },
  "language_info": {
   "codemirror_mode": {
    "name": "ipython",
    "version": 3
   },
   "file_extension": ".py",
   "mimetype": "text/x-python",
   "name": "python",
   "nbconvert_exporter": "python",
   "pygments_lexer": "ipython3",
   "version": "3.8.5"
  }
 },
 "nbformat": 4,
 "nbformat_minor": 4
}
